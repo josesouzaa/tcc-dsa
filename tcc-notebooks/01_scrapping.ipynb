{
 "cells": [
  {
   "cell_type": "code",
   "execution_count": null,
   "id": "0d9bdfc5-c64e-4dda-8992-e7f7e41f7244",
   "metadata": {},
   "outputs": [],
   "source": [
    "# %% INSTALANDO OS PACOTES\n",
    "\n",
    "# !pip install pandas\n",
    "# !pip install selenium"
   ]
  },
  {
   "cell_type": "code",
   "execution_count": null,
   "id": "389901e0-3d0b-4ef2-9156-8a828527f8f6",
   "metadata": {},
   "outputs": [],
   "source": [
    "# %% IMPORTANDO OS PACOTES\n",
    "\n",
    "import pandas as pd\n",
    "\n",
    "from selenium import webdriver\n",
    "from selenium.webdriver.common.by import By\n",
    "from selenium.webdriver.support.ui import WebDriverWait\n",
    "from selenium.webdriver.support import expected_conditions as EC"
   ]
  },
  {
   "cell_type": "code",
   "execution_count": null,
   "id": "24ccc0ec-9a12-4324-8c4e-6aac79a22371",
   "metadata": {},
   "outputs": [],
   "source": [
    "# %% CRIANDO O DATAFRAME\n",
    "\n",
    "colunas = [\n",
    "    \"user_name\",\n",
    "    \"user_at\",\n",
    "    \"user_url\",\n",
    "    \"user_avatar_url\",\n",
    "    \"date\",\n",
    "    \"text\",\n",
    "    \"images_url\",\n",
    "    \"replys\",\n",
    "    \"reposts\",\n",
    "    \"quotes\",\n",
    "    \"likes\",\n",
    "    \"post_url\",\n",
    "]\n",
    "\n",
    "df = pd.DataFrame(columns=colunas)"
   ]
  },
  {
   "cell_type": "code",
   "execution_count": null,
   "id": "5c9d378d-5c60-4c68-b9e6-330c8980834c",
   "metadata": {},
   "outputs": [],
   "source": [
    "# %% DEFININDO URL + CONTROLANDO O NAVEGADOR\n",
    "\n",
    "url = \"https://nitter.net/DuolingoBrasil\"\n",
    "\n",
    "navegador = webdriver.Chrome()\n",
    "\n",
    "navegador.get(url)\n",
    "\n",
    "navegador.maximize_window()"
   ]
  },
  {
   "cell_type": "code",
   "execution_count": null,
   "id": "305690cb-b8d1-4013-adf2-2daa73ad8c83",
   "metadata": {},
   "outputs": [],
   "source": [
    "# %% FUNÇÃO DE PASSAR A PÁGINA\n",
    "\n",
    "def get_next_page():\n",
    "    btn = navegador.find_element(By.CSS_SELECTOR, \"div.show-more a[href^='?cursor=']\")\n",
    "\n",
    "    navegador.execute_script(\"arguments[0].scrollIntoView()\", btn)\n",
    "\n",
    "    WebDriverWait(navegador, 10).until(EC.element_to_be_clickable(btn))\n",
    "\n",
    "    btn.click()"
   ]
  },
  {
   "cell_type": "code",
   "execution_count": null,
   "id": "01256c97-cb86-40be-90d8-6616fca17d41",
   "metadata": {},
   "outputs": [],
   "source": [
    "# %% FUNÇÃO DE PERCORRER OS POSTS E ADICIONÁ-LOS AO BANCO DE DADOS\n",
    "\n",
    "def get_posts(df):\n",
    "    posts = navegador.find_elements(By.XPATH, \"//div[@class='timeline-item ']\")\n",
    "\n",
    "    for post in posts:\n",
    "        # Elementos unitários\n",
    "        user_name = post.find_element(By.CSS_SELECTOR, \"a.fullname\").text\n",
    "        user_at = post.find_element(By.CSS_SELECTOR, \"a.username\").text\n",
    "        user_url = post.find_element(By.CSS_SELECTOR, \"a.username\").get_attribute(\n",
    "            \"href\"\n",
    "        )\n",
    "        user_avatar_url = post.find_element(\n",
    "            By.CSS_SELECTOR, \"a.tweet-avatar img\"\n",
    "        ).get_attribute(\"src\")\n",
    "        date = post.find_element(By.CSS_SELECTOR, \"span.tweet-date a\").get_attribute(\n",
    "            \"title\"\n",
    "        )\n",
    "        text = post.find_element(By.CSS_SELECTOR, \"div.tweet-content\").text\n",
    "        post_url = post.find_element(By.CSS_SELECTOR, \"a.tweet-link\").get_attribute(\n",
    "            \"href\"\n",
    "        )\n",
    "\n",
    "        # Elementos em lista\n",
    "        stats = [\n",
    "            stat.text\n",
    "            for stat in post.find_elements(By.CSS_SELECTOR, \"span.tweet-stat div\")\n",
    "        ]\n",
    "        images = [\n",
    "            img.get_attribute(\"href\")\n",
    "            for img in post.find_elements(\n",
    "                By.XPATH,\n",
    "                \".//div[contains(@class, 'attachment') and contains(@class, 'image') and not(ancestor::*[contains(@class, 'quote')])]/a[contains(@class, 'still-image')]\",\n",
    "            )\n",
    "        ]\n",
    "\n",
    "        if user_at == \"@DuolingoBrasil\":\n",
    "            df_post = pd.DataFrame(\n",
    "                [\n",
    "                    [\n",
    "                        user_name,\n",
    "                        user_at,\n",
    "                        user_url,\n",
    "                        user_avatar_url,\n",
    "                        date,\n",
    "                        text,\n",
    "                        images,\n",
    "                        stats[0],\n",
    "                        stats[1],\n",
    "                        stats[2],\n",
    "                        stats[3],\n",
    "                        post_url,\n",
    "                    ]\n",
    "                ],\n",
    "                columns=colunas,\n",
    "            )\n",
    "            df = pd.concat([df, df_post], ignore_index=True)\n",
    "\n",
    "    return df"
   ]
  },
  {
   "cell_type": "code",
   "execution_count": null,
   "id": "34328aa2-60b9-410e-b577-57ee909fb493",
   "metadata": {},
   "outputs": [],
   "source": [
    "# %% EXECUTANDO AS FUNÇÕES E WHILE\n",
    "\n",
    "df = get_posts(df)\n",
    "get_next_page()\n",
    "\n",
    "while \"2023\" not in df.tail(1)[\"date\"].values[0]:\n",
    "    df = get_posts(df)\n",
    "    get_next_page()"
   ]
  },
  {
   "cell_type": "code",
   "execution_count": null,
   "id": "295e9ca6-ef42-479b-a573-80c6421dc3fc",
   "metadata": {},
   "outputs": [],
   "source": [
    "# %% SALVANDO O BANCO DE DADOS\n",
    "\n",
    "df.to_csv(\"db_raw.csv\", index=False, encoding=\"utf-8\")\n",
    "# df.to_excel(\"db_raw.xlsx\", index=False)"
   ]
  }
 ],
 "metadata": {
  "kernelspec": {
   "display_name": "Python [conda env:base] *",
   "language": "python",
   "name": "conda-base-py"
  },
  "language_info": {
   "codemirror_mode": {
    "name": "ipython",
    "version": 3
   },
   "file_extension": ".py",
   "mimetype": "text/x-python",
   "name": "python",
   "nbconvert_exporter": "python",
   "pygments_lexer": "ipython3",
   "version": "3.11.7"
  }
 },
 "nbformat": 4,
 "nbformat_minor": 5
}
