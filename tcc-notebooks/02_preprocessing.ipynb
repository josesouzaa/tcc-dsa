{
 "cells": [
  {
   "cell_type": "code",
   "execution_count": null,
   "id": "ac15c8fc-1a31-46fc-9db0-04227ed3333c",
   "metadata": {},
   "outputs": [],
   "source": [
    "# %% INSTALANDO OS PACOTES\n",
    "\n",
    "# !pip install pandas\n",
    "# !pip install ast"
   ]
  },
  {
   "cell_type": "code",
   "execution_count": null,
   "id": "81fd2440-e88d-4afe-b6de-86a18d408068",
   "metadata": {},
   "outputs": [],
   "source": [
    "# %% IMPORTANDO OS PACOTES\n",
    "\n",
    "import pandas as pd\n",
    "import ast"
   ]
  },
  {
   "cell_type": "code",
   "execution_count": null,
   "id": "bef2898d-92cf-493b-a280-89d74d02343d",
   "metadata": {},
   "outputs": [],
   "source": [
    "# %% IMPORTANDO O BANCO DE DADOS E RENOMEANDO ALGUMAS COLUNAS\n",
    "\n",
    "df = pd.read_csv(\"db_raw.csv\")\n",
    "df = df.rename(columns={\"date\": \"date_raw\", \"text\": \"text_raw\"})"
   ]
  },
  {
   "cell_type": "code",
   "execution_count": null,
   "id": "84f43e83-b88a-44fd-bb3d-d1e2e915513b",
   "metadata": {},
   "outputs": [],
   "source": [
    "# %% TRANSFORMANDO AS COLUNAS DE INTERAÇÕES EM NÚMEROS INTEIROS E CRIANDO A COLUNA \"INTERACTIONS\" SOMANDO TODAS AS INTERAÇÕES\n",
    "\n",
    "\n",
    "def cols_to_number(cols):\n",
    "    for col in cols:\n",
    "        df[col] = pd.to_numeric(df[col].str.replace(\",\", \"\")).fillna(0).astype(\"int64\")\n",
    "\n",
    "    df[\"interactions\"] = (\n",
    "        df[[\"replys\", \"reposts\", \"quotes\", \"likes\"]].sum(axis=1).astype(\"int64\")\n",
    "    )\n",
    "\n",
    "\n",
    "cols_to_number([\"replys\", \"reposts\", \"quotes\", \"likes\"])"
   ]
  },
  {
   "cell_type": "code",
   "execution_count": null,
   "id": "b735a76f-4143-4974-b3a9-99fa221a46d1",
   "metadata": {},
   "outputs": [],
   "source": [
    "# %% VERIFICANDO SE O POST POSSUÍ IMAGEM OU NÃO E CRIANDO UMA COLUNA COM ESSA INFORMAÇÃO\n",
    "\n",
    "df[\"images_url\"] = df[\"images_url\"].apply(ast.literal_eval)\n",
    "df[\"has_image\"] = df[\"images_url\"].apply(lambda x: 1 if len(x) > 0 else 0)\n",
    "df[\"has_image\"] = df[\"has_image\"].astype(\"category\")"
   ]
  },
  {
   "cell_type": "code",
   "execution_count": null,
   "id": "85dd6e36-9512-4798-99bf-bd7eaa586d1a",
   "metadata": {},
   "outputs": [],
   "source": [
    "# %% FORMATANDO A DATA E ATRIBUINDO PERIODO PARA CADA OBSERVAÇÃO\n",
    "\n",
    "def get_period(hour):\n",
    "    if 0 <= hour < 6:\n",
    "        return \"madrugada\"\n",
    "    elif 6 <= hour < 12:\n",
    "        return \"manhã\"\n",
    "    elif 12 <= hour < 18:\n",
    "        return \"tarde\"\n",
    "    else:\n",
    "        return \"noite\"\n",
    "\n",
    "df[\"date_raw\"] = pd.to_datetime(df[\"date_raw\"], format=\"%b %d, %Y · %I:%M %p %Z\")\n",
    "df[\"date\"] = df[\"date_raw\"].dt.strftime(\"%d/%m/%Y\")\n",
    "df[\"year_month\"] = df[\"date_raw\"].dt.strftime(\"%Y/%m\")\n",
    "df[\"period\"] = df[\"date_raw\"].dt.hour.apply(get_period)\n",
    "df.drop(columns=[\"date_raw\"], inplace=True)"
   ]
  },
  {
   "cell_type": "code",
   "execution_count": null,
   "id": "549db620-e489-4938-943f-6e1518aa321f",
   "metadata": {},
   "outputs": [],
   "source": [
    "# %% SALVANDO O BANCO DE DADOS\n",
    "\n",
    "df.to_csv(\"db.csv\", index=False, encoding=\"utf-8\")"
   ]
  }
 ],
 "metadata": {
  "kernelspec": {
   "display_name": "Python [conda env:base] *",
   "language": "python",
   "name": "conda-base-py"
  },
  "language_info": {
   "codemirror_mode": {
    "name": "ipython",
    "version": 3
   },
   "file_extension": ".py",
   "mimetype": "text/x-python",
   "name": "python",
   "nbconvert_exporter": "python",
   "pygments_lexer": "ipython3",
   "version": "3.11.7"
  }
 },
 "nbformat": 4,
 "nbformat_minor": 5
}
